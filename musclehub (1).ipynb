{
 "cells": [
  {
   "cell_type": "markdown",
   "metadata": {},
   "source": [
    "# Capstone Project 1: MuscleHub AB Test"
   ]
  },
  {
   "cell_type": "code",
   "execution_count": null,
   "metadata": {},
   "outputs": [],
   "source": [
    "# Examining Each table"
   ]
  },
  {
   "cell_type": "code",
   "execution_count": 40,
   "metadata": {},
   "outputs": [
    {
     "name": "stdout",
     "output_type": "stream",
     "text": [
      "      index first_name last_name                          email  gender  \\\n",
      "0         0      Karen   Manning        Karen.Manning@gmail.com  female   \n",
      "1         1    Annette     Boone               AB9982@gmail.com  female   \n",
      "2         2   Salvador   Merritt  SalvadorMerritt12@outlook.com    male   \n",
      "3         3     Martha   Maxwell       Martha.Maxwell@gmail.com  female   \n",
      "4         4      Andre     Mayer         AndreMayer90@gmail.com    male   \n",
      "...     ...        ...       ...                            ...     ...   \n",
      "5995   5995     Rachel   Hensley      RachelHensley38@gmail.com  female   \n",
      "5996   5996       Leon    Harmon          Leon.Harmon@gmail.com    male   \n",
      "5997   5997       Andy     Pratt          AndyPratt27@gmail.com    male   \n",
      "5998   5998      Ruben   Nielsen     RubenNielsen93@hotmail.com    male   \n",
      "5999   5999    Charles    Carver               CC2490@gmail.com    male   \n",
      "\n",
      "     visit_date  \n",
      "0        5-1-17  \n",
      "1        5-1-17  \n",
      "2        5-1-17  \n",
      "3        5-1-17  \n",
      "4        5-1-17  \n",
      "...         ...  \n",
      "5995     9-9-17  \n",
      "5996     9-9-17  \n",
      "5997     9-9-17  \n",
      "5998     9-9-17  \n",
      "5999     9-9-17  \n",
      "\n",
      "[6000 rows x 6 columns]\n"
     ]
    }
   ],
   "source": [
    "from codecademySQL import sql_query\n",
    "df4 = sql_query('''SELECT * FROM visits''')\n",
    "print(df4)\n"
   ]
  },
  {
   "cell_type": "code",
   "execution_count": 41,
   "metadata": {},
   "outputs": [
    {
     "name": "stdout",
     "output_type": "stream",
     "text": [
      "      index first_name last_name                   email  gender  \\\n",
      "0         0        Kim    Walter   KimWalter58@gmail.com  female   \n",
      "1         1        Tom   Webster        TW3857@gmail.com    male   \n",
      "2         2     Marcus     Bauer  Marcus.Bauer@gmail.com    male   \n",
      "3         3    Roberta      Best      RB6305@hotmail.com  female   \n",
      "4         4     Carrie   Francis      CF1896@hotmail.com  female   \n",
      "...     ...        ...       ...                     ...     ...   \n",
      "2495   2495       Dean     Mejia        DM7848@gmail.com    male   \n",
      "2496   2496       Sara    Malone   SMalone1995@gmail.com  female   \n",
      "2497   2497       Leon    Harmon   Leon.Harmon@gmail.com    male   \n",
      "2498   2498       Andy     Pratt   AndyPratt27@gmail.com    male   \n",
      "2499   2499    Charles    Carver        CC2490@gmail.com    male   \n",
      "\n",
      "     fitness_test_date  \n",
      "0           2017-07-03  \n",
      "1           2017-07-02  \n",
      "2           2017-07-01  \n",
      "3           2017-07-02  \n",
      "4           2017-07-05  \n",
      "...                ...  \n",
      "2495        2017-09-13  \n",
      "2496        2017-09-13  \n",
      "2497        2017-09-15  \n",
      "2498        2017-09-15  \n",
      "2499        2017-09-12  \n",
      "\n",
      "[2500 rows x 6 columns]\n"
     ]
    }
   ],
   "source": [
    "df1 = sql_query('SELECT * FROM fitness_tests')\n",
    "print(df1)"
   ]
  },
  {
   "cell_type": "code",
   "execution_count": 42,
   "metadata": {},
   "outputs": [
    {
     "name": "stdout",
     "output_type": "stream",
     "text": [
      "     index first_name last_name                      email  gender  \\\n",
      "0        0        Roy    Abbott      RoyAbbott32@gmail.com    male   \n",
      "1        1      Agnes   Acevedo    AgnesAcevedo1@gmail.com  female   \n",
      "2        2    Roberta   Acevedo           RA8063@gmail.com  female   \n",
      "3        3     Darren    Acosta    DAcosta1996@hotmail.com    male   \n",
      "4        4     Vernon    Acosta      VAcosta1975@gmail.com    male   \n",
      "..     ...        ...       ...                        ...     ...   \n",
      "570    570       Rosa   Woodard  RosaWoodard27@outlook.com  female   \n",
      "571    571       Gary      Yang           GY3609@gmail.com    male   \n",
      "572    572     Sharon     Yates     Sharon.Yates@gmail.com  female   \n",
      "573    573     Billie     Yates  BillieYates91@hotmail.com  female   \n",
      "574    574    Jeffery    Zamora           JZ2811@gmail.com    male   \n",
      "\n",
      "    application_date  \n",
      "0         2017-08-12  \n",
      "1         2017-09-29  \n",
      "2         2017-09-15  \n",
      "3         2017-07-26  \n",
      "4         2017-07-14  \n",
      "..               ...  \n",
      "570       2017-09-08  \n",
      "571       2017-08-16  \n",
      "572       2017-07-18  \n",
      "573       2017-08-10  \n",
      "574       2017-07-24  \n",
      "\n",
      "[575 rows x 6 columns]\n"
     ]
    }
   ],
   "source": [
    "df2 = sql_query('SELECT * FROM applications')\n",
    "print(df2)"
   ]
  },
  {
   "cell_type": "code",
   "execution_count": 43,
   "metadata": {},
   "outputs": [
    {
     "name": "stdout",
     "output_type": "stream",
     "text": [
      "     index first_name last_name                      email  gender  \\\n",
      "0        0        Roy    Abbott      RoyAbbott32@gmail.com    male   \n",
      "1        1    Roberta   Acevedo           RA8063@gmail.com  female   \n",
      "2        2     Vernon    Acosta      VAcosta1975@gmail.com    male   \n",
      "3        3     Darren    Acosta    DAcosta1996@hotmail.com    male   \n",
      "4        4       Dawn    Adkins      Dawn.Adkins@gmail.com  female   \n",
      "..     ...        ...       ...                        ...     ...   \n",
      "445    445       Rosa   Woodard  RosaWoodard27@outlook.com  female   \n",
      "446    446       Gary      Yang           GY3609@gmail.com    male   \n",
      "447    447     Sharon     Yates     Sharon.Yates@gmail.com  female   \n",
      "448    448     Billie     Yates  BillieYates91@hotmail.com  female   \n",
      "449    449    Jeffery    Zamora           JZ2811@gmail.com    male   \n",
      "\n",
      "    purchase_date  \n",
      "0      2017-08-18  \n",
      "1      2017-09-16  \n",
      "2      2017-07-20  \n",
      "3      2017-07-27  \n",
      "4      2017-08-24  \n",
      "..            ...  \n",
      "445    2017-09-14  \n",
      "446    2017-08-19  \n",
      "447    2017-07-22  \n",
      "448    2017-08-10  \n",
      "449    2017-07-26  \n",
      "\n",
      "[450 rows x 6 columns]\n"
     ]
    }
   ],
   "source": [
    "df3 = sql_query('SELECT * FROM purchases')\n",
    "print(df3)"
   ]
  },
  {
   "cell_type": "code",
   "execution_count": 44,
   "metadata": {},
   "outputs": [
    {
     "name": "stdout",
     "output_type": "stream",
     "text": [
      "     first_name last_name  gender                       email visit_date  \\\n",
      "0           Kim    Walter  female       KimWalter58@gmail.com     7-1-17   \n",
      "1           Tom   Webster    male            TW3857@gmail.com     7-1-17   \n",
      "2        Edward     Bowen    male      Edward.Bowen@gmail.com     7-1-17   \n",
      "3        Marcus     Bauer    male      Marcus.Bauer@gmail.com     7-1-17   \n",
      "4       Roberta      Best  female          RB6305@hotmail.com     7-1-17   \n",
      "...         ...       ...     ...                         ...        ...   \n",
      "4999     Rachel   Hensley  female   RachelHensley38@gmail.com     9-9-17   \n",
      "5000       Leon    Harmon    male       Leon.Harmon@gmail.com     9-9-17   \n",
      "5001       Andy     Pratt    male       AndyPratt27@gmail.com     9-9-17   \n",
      "5002      Ruben   Nielsen    male  RubenNielsen93@hotmail.com     9-9-17   \n",
      "5003    Charles    Carver    male            CC2490@gmail.com     9-9-17   \n",
      "\n",
      "     fitness_test_date application_date purchase_date  \n",
      "0           2017-07-03             None          None  \n",
      "1           2017-07-02             None          None  \n",
      "2                 None       2017-07-04    2017-07-04  \n",
      "3           2017-07-01       2017-07-03    2017-07-05  \n",
      "4           2017-07-02             None          None  \n",
      "...                ...              ...           ...  \n",
      "4999              None             None          None  \n",
      "5000        2017-09-15             None          None  \n",
      "5001        2017-09-15             None          None  \n",
      "5002              None       2017-09-13          None  \n",
      "5003        2017-09-12             None          None  \n",
      "\n",
      "[5004 rows x 8 columns]\n"
     ]
    }
   ],
   "source": [
    "df = sql_query('''\n",
    "SELECT visits.first_name,\n",
    "       visits.last_name,\n",
    "       visits.gender,\n",
    "       visits.email,\n",
    "       visits.visit_date,\n",
    "       fitness_tests.fitness_test_date,\n",
    "       applications.application_date,\n",
    "       purchases.purchase_date \n",
    "FROM visits \n",
    "LEFT JOIN fitness_tests \n",
    "    ON visits.first_name = fitness_tests.first_name\n",
    "    AND visits.last_name = fitness_tests.last_name\n",
    "    AND visits.email = fitness_tests.email\n",
    "LEFT JOIN applications \n",
    "    ON visits.first_name = applications.first_name\n",
    "    AND visits.last_name = applications.last_name\n",
    "    AND visits.email = applications.email\n",
    "LEFT JOIN purchases \n",
    "    ON visits.first_name = purchases.first_name\n",
    "    AND visits.last_name = purchases.last_name\n",
    "    AND visits.email = purchases.email\n",
    "WHERE visits.visit_date>= '7-1-17'\n",
    "''')\n",
    "print(df)"
   ]
  },
  {
   "cell_type": "markdown",
   "metadata": {},
   "source": [
    "## Step 1: Investigate the A and B groups"
   ]
  },
  {
   "cell_type": "markdown",
   "metadata": {},
   "source": [
    "We have some data to work with! Import the following modules so that we can start doing analysis:\n",
    "- `import pandas as pd`\n",
    "- `from matplotlib import pyplot as plt`"
   ]
  },
  {
   "cell_type": "code",
   "execution_count": 45,
   "metadata": {},
   "outputs": [],
   "source": [
    "import pandas as pd\n",
    "from matplotlib import pyplot as plt"
   ]
  },
  {
   "cell_type": "code",
   "execution_count": 46,
   "metadata": {},
   "outputs": [
    {
     "name": "stdout",
     "output_type": "stream",
     "text": [
      "     first_name last_name  gender                       email visit_date  \\\n",
      "0           Kim    Walter  female       KimWalter58@gmail.com     7-1-17   \n",
      "1           Tom   Webster    male            TW3857@gmail.com     7-1-17   \n",
      "2        Edward     Bowen    male      Edward.Bowen@gmail.com     7-1-17   \n",
      "3        Marcus     Bauer    male      Marcus.Bauer@gmail.com     7-1-17   \n",
      "4       Roberta      Best  female          RB6305@hotmail.com     7-1-17   \n",
      "...         ...       ...     ...                         ...        ...   \n",
      "4999     Rachel   Hensley  female   RachelHensley38@gmail.com     9-9-17   \n",
      "5000       Leon    Harmon    male       Leon.Harmon@gmail.com     9-9-17   \n",
      "5001       Andy     Pratt    male       AndyPratt27@gmail.com     9-9-17   \n",
      "5002      Ruben   Nielsen    male  RubenNielsen93@hotmail.com     9-9-17   \n",
      "5003    Charles    Carver    male            CC2490@gmail.com     9-9-17   \n",
      "\n",
      "     fitness_test_date application_date purchase_date ab_test_group  \n",
      "0           2017-07-03             None          None             A  \n",
      "1           2017-07-02             None          None             A  \n",
      "2                 None       2017-07-04    2017-07-04             B  \n",
      "3           2017-07-01       2017-07-03    2017-07-05             A  \n",
      "4           2017-07-02             None          None             A  \n",
      "...                ...              ...           ...           ...  \n",
      "4999              None             None          None             B  \n",
      "5000        2017-09-15             None          None             A  \n",
      "5001        2017-09-15             None          None             A  \n",
      "5002              None       2017-09-13          None             B  \n",
      "5003        2017-09-12             None          None             A  \n",
      "\n",
      "[5004 rows x 9 columns]\n"
     ]
    }
   ],
   "source": [
    "df['ab_test_group'] = df.fitness_test_date.apply(lambda x: 'A' if pd.notnull(x) else 'B')\n",
    "print(df)\n"
   ]
  },
  {
   "cell_type": "code",
   "execution_count": 47,
   "metadata": {},
   "outputs": [
    {
     "name": "stdout",
     "output_type": "stream",
     "text": [
      "  ab_test_group  first_name\n",
      "0             A        2504\n",
      "1             B        2500\n"
     ]
    }
   ],
   "source": [
    "ab_counts = df.groupby('ab_test_group').first_name.count().reset_index()\n",
    "print(ab_counts)"
   ]
  },
  {
   "cell_type": "code",
   "execution_count": 48,
   "metadata": {},
   "outputs": [
    {
     "data": {
      "image/png": "[encoded data removed]",
      "text/plain": [
       "<Figure size 432x288 with 1 Axes>"
      ]
     },
     "metadata": {},
     "output_type": "display_data"
    }
   ],
   "source": [
    "plt.pie(ab_counts.first_name,labels = ab_counts.ab_test_group, autopct = '%0.2f%%')\n",
    "plt.axis('equal')\n",
    "plt.savefig('ab_test_pie_charg.png')"
   ]
  },
  {
   "cell_type": "markdown",
   "metadata": {},
   "source": [
    "## Step 2: Who picks up an application?"
   ]
  },
  {
   "cell_type": "code",
   "execution_count": 49,
   "metadata": {},
   "outputs": [
    {
     "name": "stdout",
     "output_type": "stream",
     "text": [
      "     first_name last_name  gender                       email visit_date  \\\n",
      "0           Kim    Walter  female       KimWalter58@gmail.com     7-1-17   \n",
      "1           Tom   Webster    male            TW3857@gmail.com     7-1-17   \n",
      "2        Edward     Bowen    male      Edward.Bowen@gmail.com     7-1-17   \n",
      "3        Marcus     Bauer    male      Marcus.Bauer@gmail.com     7-1-17   \n",
      "4       Roberta      Best  female          RB6305@hotmail.com     7-1-17   \n",
      "...         ...       ...     ...                         ...        ...   \n",
      "4999     Rachel   Hensley  female   RachelHensley38@gmail.com     9-9-17   \n",
      "5000       Leon    Harmon    male       Leon.Harmon@gmail.com     9-9-17   \n",
      "5001       Andy     Pratt    male       AndyPratt27@gmail.com     9-9-17   \n",
      "5002      Ruben   Nielsen    male  RubenNielsen93@hotmail.com     9-9-17   \n",
      "5003    Charles    Carver    male            CC2490@gmail.com     9-9-17   \n",
      "\n",
      "     fitness_test_date application_date purchase_date ab_test_group  \\\n",
      "0           2017-07-03             None          None             A   \n",
      "1           2017-07-02             None          None             A   \n",
      "2                 None       2017-07-04    2017-07-04             B   \n",
      "3           2017-07-01       2017-07-03    2017-07-05             A   \n",
      "4           2017-07-02             None          None             A   \n",
      "...                ...              ...           ...           ...   \n",
      "4999              None             None          None             B   \n",
      "5000        2017-09-15             None          None             A   \n",
      "5001        2017-09-15             None          None             A   \n",
      "5002              None       2017-09-13          None             B   \n",
      "5003        2017-09-12             None          None             A   \n",
      "\n",
      "      is_application  \n",
      "0     No Application  \n",
      "1     No Application  \n",
      "2        Application  \n",
      "3        Application  \n",
      "4     No Application  \n",
      "...              ...  \n",
      "4999  No Application  \n",
      "5000  No Application  \n",
      "5001  No Application  \n",
      "5002     Application  \n",
      "5003  No Application  \n",
      "\n",
      "[5004 rows x 10 columns]\n"
     ]
    }
   ],
   "source": [
    "df['is_application'] = df.application_date.apply(lambda x: 'Application' if pd.notnull(x) else 'No Application')\n",
    "print(df)"
   ]
  },
  {
   "cell_type": "code",
   "execution_count": 50,
   "metadata": {},
   "outputs": [
    {
     "name": "stdout",
     "output_type": "stream",
     "text": [
      "  ab_test_group  is_application  first_name\n",
      "0             A     Application         250\n",
      "1             A  No Application        2254\n",
      "2             B     Application         325\n",
      "3             B  No Application        2175\n"
     ]
    }
   ],
   "source": [
    "app_counts = df.groupby(['ab_test_group','is_application']).first_name.count().reset_index()\n",
    "print(app_counts)"
   ]
  },
  {
   "cell_type": "code",
   "execution_count": 51,
   "metadata": {},
   "outputs": [
    {
     "name": "stdout",
     "output_type": "stream",
     "text": [
      "is_application  Application  No Application\n",
      "ab_test_group                              \n",
      "A                       250            2254\n",
      "B                       325            2175\n"
     ]
    }
   ],
   "source": [
    "app_pivot = app_counts.pivot(index = 'ab_test_group', columns = 'is_application', values = 'first_name')\n",
    "print(app_pivot)"
   ]
  },
  {
   "cell_type": "code",
   "execution_count": 52,
   "metadata": {},
   "outputs": [
    {
     "name": "stdout",
     "output_type": "stream",
     "text": [
      "is_application  Application  No Application  Total\n",
      "ab_test_group                                     \n",
      "A                       250            2254   2504\n",
      "B                       325            2175   2500\n"
     ]
    }
   ],
   "source": [
    "app_pivot['Total'] = app_pivot.Application + app_pivot['No Application']\n",
    "print(app_pivot)"
   ]
  },
  {
   "cell_type": "code",
   "execution_count": 53,
   "metadata": {},
   "outputs": [
    {
     "name": "stdout",
     "output_type": "stream",
     "text": [
      "is_application  Application  No Application  Total  Percent with Application\n",
      "ab_test_group                                                               \n",
      "A                       250            2254   2504                   0.09984\n",
      "B                       325            2175   2500                   0.13000\n"
     ]
    }
   ],
   "source": [
    "app_pivot['Percent with Application'] = app_pivot.Application / app_pivot.Total\n",
    "print(app_pivot)"
   ]
  },
  {
   "cell_type": "code",
   "execution_count": 54,
   "metadata": {},
   "outputs": [
    {
     "name": "stdout",
     "output_type": "stream",
     "text": [
      "0.0009647827600722304\n"
     ]
    }
   ],
   "source": [
    "from scipy.stats import chi2_contingency\n",
    "X = [[250,2254],[325,2175]]\n",
    "chi2, pval, dof, expected = chi2_contingency(X)\n",
    "print(pval)"
   ]
  },
  {
   "cell_type": "markdown",
   "metadata": {},
   "source": [
    "## Step 3: Who purchases a membership?"
   ]
  },
  {
   "cell_type": "code",
   "execution_count": 55,
   "metadata": {},
   "outputs": [
    {
     "name": "stdout",
     "output_type": "stream",
     "text": [
      "     first_name last_name  gender                       email visit_date  \\\n",
      "0           Kim    Walter  female       KimWalter58@gmail.com     7-1-17   \n",
      "1           Tom   Webster    male            TW3857@gmail.com     7-1-17   \n",
      "2        Edward     Bowen    male      Edward.Bowen@gmail.com     7-1-17   \n",
      "3        Marcus     Bauer    male      Marcus.Bauer@gmail.com     7-1-17   \n",
      "4       Roberta      Best  female          RB6305@hotmail.com     7-1-17   \n",
      "...         ...       ...     ...                         ...        ...   \n",
      "4999     Rachel   Hensley  female   RachelHensley38@gmail.com     9-9-17   \n",
      "5000       Leon    Harmon    male       Leon.Harmon@gmail.com     9-9-17   \n",
      "5001       Andy     Pratt    male       AndyPratt27@gmail.com     9-9-17   \n",
      "5002      Ruben   Nielsen    male  RubenNielsen93@hotmail.com     9-9-17   \n",
      "5003    Charles    Carver    male            CC2490@gmail.com     9-9-17   \n",
      "\n",
      "     fitness_test_date application_date purchase_date ab_test_group  \\\n",
      "0           2017-07-03             None          None             A   \n",
      "1           2017-07-02             None          None             A   \n",
      "2                 None       2017-07-04    2017-07-04             B   \n",
      "3           2017-07-01       2017-07-03    2017-07-05             A   \n",
      "4           2017-07-02             None          None             A   \n",
      "...                ...              ...           ...           ...   \n",
      "4999              None             None          None             B   \n",
      "5000        2017-09-15             None          None             A   \n",
      "5001        2017-09-15             None          None             A   \n",
      "5002              None       2017-09-13          None             B   \n",
      "5003        2017-09-12             None          None             A   \n",
      "\n",
      "      is_application   is_member  \n",
      "0     No Application  Not Member  \n",
      "1     No Application  Not Member  \n",
      "2        Application      Member  \n",
      "3        Application      Member  \n",
      "4     No Application  Not Member  \n",
      "...              ...         ...  \n",
      "4999  No Application  Not Member  \n",
      "5000  No Application  Not Member  \n",
      "5001  No Application  Not Member  \n",
      "5002     Application  Not Member  \n",
      "5003  No Application  Not Member  \n",
      "\n",
      "[5004 rows x 11 columns]\n"
     ]
    }
   ],
   "source": [
    "df['is_member'] = df.purchase_date.apply(lambda x: 'Member' if pd.notnull(x) else 'Not Member')\n",
    "print(df)"
   ]
  },
  {
   "cell_type": "code",
   "execution_count": 56,
   "metadata": {},
   "outputs": [
    {
     "name": "stdout",
     "output_type": "stream",
     "text": [
      "     first_name last_name  gender                       email visit_date  \\\n",
      "2        Edward     Bowen    male      Edward.Bowen@gmail.com     7-1-17   \n",
      "3        Marcus     Bauer    male      Marcus.Bauer@gmail.com     7-1-17   \n",
      "9      Salvador  Cardenas    male     SCardenas1980@gmail.com     7-1-17   \n",
      "11      Valerie     Munoz  female        VMunoz1998@gmail.com     7-1-17   \n",
      "35      Michael     Burks    male            MB9820@gmail.com     7-1-17   \n",
      "...         ...       ...     ...                         ...        ...   \n",
      "4944    Frances      Kerr  female            FK7982@gmail.com     9-8-17   \n",
      "4964    Raymond  Cantrell    male  Raymond.Cantrell@gmail.com     9-9-17   \n",
      "4972    Roberta   Acevedo  female            RA8063@gmail.com     9-9-17   \n",
      "4991    Suzanne  Humphrey  female  SuzanneHumphrey4@gmail.com     9-9-17   \n",
      "5002      Ruben   Nielsen    male  RubenNielsen93@hotmail.com     9-9-17   \n",
      "\n",
      "     fitness_test_date application_date purchase_date ab_test_group  \\\n",
      "2                 None       2017-07-04    2017-07-04             B   \n",
      "3           2017-07-01       2017-07-03    2017-07-05             A   \n",
      "9           2017-07-07       2017-07-06          None             A   \n",
      "11          2017-07-03       2017-07-05    2017-07-06             A   \n",
      "35                None       2017-07-07    2017-07-13             B   \n",
      "...                ...              ...           ...           ...   \n",
      "4944        2017-09-12       2017-09-10    2017-09-15             A   \n",
      "4964              None       2017-09-13    2017-09-18             B   \n",
      "4972              None       2017-09-15    2017-09-16             B   \n",
      "4991        2017-09-09       2017-09-13    2017-09-18             A   \n",
      "5002              None       2017-09-13          None             B   \n",
      "\n",
      "     is_application   is_member  \n",
      "2       Application      Member  \n",
      "3       Application      Member  \n",
      "9       Application  Not Member  \n",
      "11      Application      Member  \n",
      "35      Application      Member  \n",
      "...             ...         ...  \n",
      "4944    Application      Member  \n",
      "4964    Application      Member  \n",
      "4972    Application      Member  \n",
      "4991    Application      Member  \n",
      "5002    Application  Not Member  \n",
      "\n",
      "[575 rows x 11 columns]\n"
     ]
    }
   ],
   "source": [
    "just_apps = df[df.is_application == 'Application']\n",
    "print(just_apps)"
   ]
  },
  {
   "cell_type": "code",
   "execution_count": 57,
   "metadata": {},
   "outputs": [
    {
     "data": {
      "text/html": [
       "<div>\n",
       "<style scoped>\n",
       "    .dataframe tbody tr th:only-of-type {\n",
       "        vertical-align: middle;\n",
       "    }\n",
       "\n",
       "    .dataframe tbody tr th {\n",
       "        vertical-align: top;\n",
       "    }\n",
       "\n",
       "    .dataframe thead th {\n",
       "        text-align: right;\n",
       "    }\n",
       "</style>\n",
       "<table border=\"1\" class=\"dataframe\">\n",
       "  <thead>\n",
       "    <tr style=\"text-align: right;\">\n",
       "      <th>is_member</th>\n",
       "      <th>Member</th>\n",
       "      <th>Not Member</th>\n",
       "      <th>Total</th>\n",
       "      <th>Percent Purchase</th>\n",
       "    </tr>\n",
       "    <tr>\n",
       "      <th>ab_test_group</th>\n",
       "      <th></th>\n",
       "      <th></th>\n",
       "      <th></th>\n",
       "      <th></th>\n",
       "    </tr>\n",
       "  </thead>\n",
       "  <tbody>\n",
       "    <tr>\n",
       "      <th>A</th>\n",
       "      <td>200</td>\n",
       "      <td>50</td>\n",
       "      <td>250</td>\n",
       "      <td>0.800000</td>\n",
       "    </tr>\n",
       "    <tr>\n",
       "      <th>B</th>\n",
       "      <td>250</td>\n",
       "      <td>75</td>\n",
       "      <td>325</td>\n",
       "      <td>0.769231</td>\n",
       "    </tr>\n",
       "  </tbody>\n",
       "</table>\n",
       "</div>"
      ],
      "text/plain": [
       "is_member      Member  Not Member  Total  Percent Purchase\n",
       "ab_test_group                                             \n",
       "A                 200          50    250          0.800000\n",
       "B                 250          75    325          0.769231"
      ]
     },
     "execution_count": 57,
     "metadata": {},
     "output_type": "execute_result"
    }
   ],
   "source": [
    "group = just_apps.groupby(['is_member','ab_test_group']).first_name.count().reset_index()\n",
    "member_pivot = group.pivot(index = 'ab_test_group',columns = 'is_member',values = 'first_name')\n",
    "member_pivot['Total'] = member_pivot.Member + member_pivot['Not Member']\n",
    "member_pivot['Percent Purchase'] = member_pivot.Member / member_pivot.Total\n",
    "member_pivot\n",
    "\n",
    "\n"
   ]
  },
  {
   "cell_type": "code",
   "execution_count": 58,
   "metadata": {},
   "outputs": [
    {
     "name": "stdout",
     "output_type": "stream",
     "text": [
      "0.43258646051083327\n"
     ]
    }
   ],
   "source": [
    "from scipy.stats import chi2_contingency\n",
    "X = [[200,50],[250,75]]\n",
    "chi2, pval, dof, expected = chi2_contingency(X)\n",
    "print(pval)"
   ]
  },
  {
   "cell_type": "code",
   "execution_count": 59,
   "metadata": {},
   "outputs": [
    {
     "name": "stdout",
     "output_type": "stream",
     "text": [
      "is_member      Member  Not Member  Total  Percent Purchase\n",
      "ab_test_group                                             \n",
      "A                 200        2304   2504          0.079872\n",
      "B                 250        2250   2500          0.100000\n"
     ]
    }
   ],
   "source": [
    "group1 = df.groupby(['is_member','ab_test_group']).first_name.count().reset_index()\n",
    "final_member_pivot = group1.pivot(index = 'ab_test_group',columns = 'is_member', values = 'first_name')\n",
    "final_member_pivot['Total'] = final_member_pivot.Member + final_member_pivot['Not Member']\n",
    "final_member_pivot['Percent Purchase'] = final_member_pivot.Member / final_member_pivot.Total\n",
    "print(final_member_pivot)"
   ]
  },
  {
   "cell_type": "code",
   "execution_count": 60,
   "metadata": {},
   "outputs": [
    {
     "data": {
      "text/plain": [
       "(5.949182292591156,\n",
       " 0.014724114645783203,\n",
       " 1,\n",
       " array([[ 225.17985612, 2278.82014388],\n",
       "        [ 224.82014388, 2275.17985612]]))"
      ]
     },
     "execution_count": 60,
     "metadata": {},
     "output_type": "execute_result"
    }
   ],
   "source": [
    "contingency = [[200, 2304], [250, 2250]]\n",
    "chi2_contingency(contingency)"
   ]
  },
  {
   "cell_type": "markdown",
   "metadata": {},
   "source": [
    "## Step 4: Summarize the acquisition funel with a chart"
   ]
  },
  {
   "cell_type": "code",
   "execution_count": 61,
   "metadata": {},
   "outputs": [
    {
     "data": {
      "image/png": "[encoded data removed]",
      "text/plain": [
       "<Figure size 432x288 with 1 Axes>"
      ]
     },
     "metadata": {
      "needs_background": "light"
     },
     "output_type": "display_data"
    },
    {
     "data": {
      "text/plain": [
       "<Figure size 432x288 with 0 Axes>"
      ]
     },
     "metadata": {},
     "output_type": "display_data"
    }
   ],
   "source": [
    "ax = plt.subplot()\n",
    "plt.bar(range(len(app_pivot)),app_pivot['Percent with Application'].values)\n",
    "ax.set_xticks(range(len(app_pivot)))\n",
    "ax.set_xticklabels(['Fitness Test','No Fitness Tests'])\n",
    "ax.set_yticks([0, 0.05, 0.10, 0.15, 0.20])\n",
    "ax.set_yticklabels(['0%', '5%', '10%', '15%', '20%'])\n",
    "plt.show()\n",
    "plt.savefig('percent_visitors_apply.png')\n",
    "        "
   ]
  },
  {
   "cell_type": "code",
   "execution_count": 62,
   "metadata": {},
   "outputs": [
    {
     "data": {
      "image/png": "[encoded data removed]",
      "text/plain": [
       "<Figure size 432x288 with 1 Axes>"
      ]
     },
     "metadata": {
      "needs_background": "light"
     },
     "output_type": "display_data"
    },
    {
     "data": {
      "text/plain": [
       "<Figure size 432x288 with 0 Axes>"
      ]
     },
     "metadata": {},
     "output_type": "display_data"
    }
   ],
   "source": [
    "# Percent of Applicants who Purchase\n",
    "ax = plt.subplot()\n",
    "plt.bar(range(len(member_pivot)),\n",
    "       member_pivot['Percent Purchase'].values)\n",
    "ax.set_xticks(range(len(app_pivot)))\n",
    "ax.set_xticklabels(['Fitness Test', 'No Fitness Test'])\n",
    "ax.set_yticks([0, 0.1, 0.2, 0.3, 0.4, 0.5, 0.6, 0.7, 0.8, 0.9, 1])\n",
    "ax.set_yticklabels(['0%', '10%', '20%', '30%', '40%', '50%', '60%', '70%', '80%', '90%', '100%'])\n",
    "plt.show()\n",
    "plt.savefig('percent_apply_purchase.png')"
   ]
  },
  {
   "cell_type": "code",
   "execution_count": 63,
   "metadata": {},
   "outputs": [
    {
     "data": {
      "image/png": "[encoded data removed]",
      "text/plain": [
       "<Figure size 432x288 with 1 Axes>"
      ]
     },
     "metadata": {
      "needs_background": "light"
     },
     "output_type": "display_data"
    },
    {
     "data": {
      "text/plain": [
       "<Figure size 432x288 with 0 Axes>"
      ]
     },
     "metadata": {},
     "output_type": "display_data"
    }
   ],
   "source": [
    "# Percent of Visitors who Purchase\n",
    "ax = plt.subplot()\n",
    "plt.bar(range(len(final_member_pivot)),\n",
    "       final_member_pivot['Percent Purchase'].values)\n",
    "ax.set_xticks(range(len(app_pivot)))\n",
    "ax.set_xticklabels(['Fitness Test', 'No Fitness Test'])\n",
    "ax.set_yticks([0, 0.05, 0.10, 0.15, 0.20])\n",
    "ax.set_yticklabels(['0%', '5%', '10%', '15%', '20%'])\n",
    "plt.show()\n",
    "plt.savefig('percent_visitors_purchase.png')"
   ]
  },
  {
   "cell_type": "code",
   "execution_count": null,
   "metadata": {},
   "outputs": [],
   "source": []
  }
 ],
 "metadata": {
  "kernelspec": {
   "display_name": "Python 3",
   "language": "python",
   "name": "python3"
  },
  "language_info": {
   "codemirror_mode": {
    "name": "ipython",
    "version": 3
   },
   "file_extension": ".py",
   "mimetype": "text/x-python",
   "name": "python",
   "nbconvert_exporter": "python",
   "pygments_lexer": "ipython3",
   "version": "3.8.3"
  }
 },
 "nbformat": 4,
 "nbformat_minor": 2
}
